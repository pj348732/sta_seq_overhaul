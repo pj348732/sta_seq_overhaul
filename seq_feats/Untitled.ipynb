{
 "cells": [
  {
   "cell_type": "code",
   "execution_count": 6,
   "id": "f9b33421-035d-4b50-b8b4-2238388b00e4",
   "metadata": {},
   "outputs": [],
   "source": [
    "import pandas as pd\n",
    "import sys\n",
    "sys.path.insert(0, '/b/home/pengfei_ji/projects/pengfei_ji/sta_seq_overhaul/seq_feats')\n",
    "from factor_utils.factor_dao import FactorDAO"
   ]
  },
  {
   "cell_type": "code",
   "execution_count": 7,
   "id": "8ea7e37b-bcfa-498b-813f-d71a7e09660a",
   "metadata": {},
   "outputs": [],
   "source": [
    "factor_dao = FactorDAO('/b/work/pengfei_ji/factor_dbs/')"
   ]
  },
  {
   "cell_type": "code",
   "execution_count": 12,
   "id": "f70f9b9a-e639-42be-8bb8-f07d127b6418",
   "metadata": {},
   "outputs": [
    {
     "data": {
      "text/plain": [
       "(3966, 451)"
      ]
     },
     "execution_count": 12,
     "metadata": {},
     "output_type": "execute_result"
    }
   ],
   "source": [
    "lv2_df = factor_dao.read_factor_by_skey_and_day(factor_group='lob_static_price_factors',\n",
    "                                                skey=2002690, day=20200902, version='v1')\n",
    "lv2_df.shape"
   ]
  },
  {
   "cell_type": "code",
   "execution_count": 27,
   "id": "0bc0d7b8-d222-4c18-b2a7-377b7d8ad57b",
   "metadata": {},
   "outputs": [
    {
     "name": "stdout",
     "output_type": "stream",
     "text": [
      "ask6p_rel_dist_10 -0.056490838426159484 0.005297359957307191 -0.0700460409749496 -0.04071263991053431\n"
     ]
    },
    {
     "data": {
      "image/png": "[encoded data removed]",
      "text/plain": [
       "<Figure size 432x288 with 1 Axes>"
      ]
     },
     "metadata": {
      "needs_background": "light"
     },
     "output_type": "display_data"
    }
   ],
   "source": [
    "for col in set(lv2_df.columns.tolist()):\n",
    "    if col not in {'date', 'skey', 'ordering', 'minute', 'time', 'SortIndex'}:\n",
    "        # lv2_df[col].plot()\n",
    "        lv2_df[col].plot(kind='kde')\n",
    "        print(col, lv2_df[col].mean(), lv2_df[col].std(), lv2_df[col].min(), lv2_df[col].max())\n",
    "        break\n",
    "        "
   ]
  }
 ],
 "metadata": {
  "kernelspec": {
   "display_name": "Python 3",
   "language": "python",
   "name": "python3"
  },
  "language_info": {
   "codemirror_mode": {
    "name": "ipython",
    "version": 3
   },
   "file_extension": ".py",
   "mimetype": "text/x-python",
   "name": "python",
   "nbconvert_exporter": "python",
   "pygments_lexer": "ipython3",
   "version": "3.8.8"
  }
 },
 "nbformat": 4,
 "nbformat_minor": 5
}
